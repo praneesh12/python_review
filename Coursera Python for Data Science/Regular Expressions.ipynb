{
 "cells": [
  {
   "cell_type": "markdown",
   "metadata": {},
   "source": [
    "# Regex"
   ]
  },
  {
   "cell_type": "code",
   "execution_count": 1,
   "metadata": {},
   "outputs": [],
   "source": [
    "import re"
   ]
  },
  {
   "cell_type": "code",
   "execution_count": 2,
   "metadata": {},
   "outputs": [],
   "source": [
    "test_string = 'My name is Praneesh. I am a Data Scientis.' \n",
    "regex_pattern = 'Praneesh'"
   ]
  },
  {
   "cell_type": "code",
   "execution_count": 3,
   "metadata": {},
   "outputs": [
    {
     "name": "stdout",
     "output_type": "stream",
     "text": [
      "Number of matches : 1\n"
     ]
    }
   ],
   "source": [
    "match = re.findall(regex_pattern, test_string)\n",
    "print(\"Number of matches :\", len(match))"
   ]
  },
  {
   "cell_type": "code",
   "execution_count": 4,
   "metadata": {},
   "outputs": [],
   "source": [
    "pattern = re.compile(r'data')"
   ]
  },
  {
   "cell_type": "code",
   "execution_count": 5,
   "metadata": {},
   "outputs": [],
   "source": [
    "text_pattern = '''Data analysis is a process of inspecting, cleansing, transforming, and modeling data with the goal of discovering \n",
    "                  useful information, informing conclusions, and supporting decision-making. Data analysis has multiple facets\n",
    "                  and approaches, encompassing diverse techniques under a variety of names, while being used in different business, \n",
    "                  science, and social science domains.'''\n",
    "\n",
    "matches = pattern.finditer(text_pattern)"
   ]
  },
  {
   "cell_type": "code",
   "execution_count": 6,
   "metadata": {},
   "outputs": [
    {
     "name": "stdout",
     "output_type": "stream",
     "text": [
      "<_sre.SRE_Match object; span=(80, 84), match='data'>\n"
     ]
    }
   ],
   "source": [
    "for match in matches:\n",
    "    print(match)"
   ]
  },
  {
   "cell_type": "markdown",
   "metadata": {},
   "source": [
    "** Meta characters that needs to be escaped**\n",
    "\n",
    "\n",
    "** . ^ $ + * ? { } [ ] \\ | ( ) **"
   ]
  },
  {
   "cell_type": "markdown",
   "metadata": {},
   "source": [
    "- '.'  -->> finds any character except a new line \n",
    "- '\\d' -->> finds digits between 0-9\n",
    "- '\\D' -->> finds \"not a digit 0-9\"\n",
    "- '\\w' -->> finds word character (a-z, A-Z, 0-9, _ )\n",
    "- '\\W' -->> finds \"not a word character\"\n",
    "- '\\s' -->> finds whitespaces, tabs, newline\n",
    "- '\\S' -->> finds not white spaces, tabs or new line\n"
   ]
  },
  {
   "cell_type": "code",
   "execution_count": 7,
   "metadata": {},
   "outputs": [
    {
     "name": "stdout",
     "output_type": "stream",
     "text": [
      "<_sre.SRE_Match object; span=(4, 5), match=' '>\n",
      "<_sre.SRE_Match object; span=(13, 14), match=' '>\n",
      "<_sre.SRE_Match object; span=(16, 17), match=' '>\n",
      "<_sre.SRE_Match object; span=(18, 19), match=' '>\n",
      "<_sre.SRE_Match object; span=(26, 27), match=' '>\n",
      "<_sre.SRE_Match object; span=(29, 30), match=' '>\n",
      "<_sre.SRE_Match object; span=(41, 42), match=' '>\n",
      "<_sre.SRE_Match object; span=(52, 53), match=' '>\n",
      "<_sre.SRE_Match object; span=(66, 67), match=' '>\n",
      "<_sre.SRE_Match object; span=(70, 71), match=' '>\n",
      "<_sre.SRE_Match object; span=(79, 80), match=' '>\n",
      "<_sre.SRE_Match object; span=(84, 85), match=' '>\n",
      "<_sre.SRE_Match object; span=(89, 90), match=' '>\n",
      "<_sre.SRE_Match object; span=(93, 94), match=' '>\n",
      "<_sre.SRE_Match object; span=(98, 99), match=' '>\n",
      "<_sre.SRE_Match object; span=(101, 102), match=' '>\n",
      "<_sre.SRE_Match object; span=(113, 114), match=' '>\n",
      "<_sre.SRE_Match object; span=(114, 115), match='\\n'>\n",
      "<_sre.SRE_Match object; span=(115, 116), match=' '>\n",
      "<_sre.SRE_Match object; span=(116, 117), match=' '>\n",
      "<_sre.SRE_Match object; span=(117, 118), match=' '>\n",
      "<_sre.SRE_Match object; span=(118, 119), match=' '>\n",
      "<_sre.SRE_Match object; span=(119, 120), match=' '>\n",
      "<_sre.SRE_Match object; span=(120, 121), match=' '>\n",
      "<_sre.SRE_Match object; span=(121, 122), match=' '>\n",
      "<_sre.SRE_Match object; span=(122, 123), match=' '>\n",
      "<_sre.SRE_Match object; span=(123, 124), match=' '>\n",
      "<_sre.SRE_Match object; span=(124, 125), match=' '>\n",
      "<_sre.SRE_Match object; span=(125, 126), match=' '>\n",
      "<_sre.SRE_Match object; span=(126, 127), match=' '>\n",
      "<_sre.SRE_Match object; span=(127, 128), match=' '>\n",
      "<_sre.SRE_Match object; span=(128, 129), match=' '>\n",
      "<_sre.SRE_Match object; span=(129, 130), match=' '>\n",
      "<_sre.SRE_Match object; span=(130, 131), match=' '>\n",
      "<_sre.SRE_Match object; span=(131, 132), match=' '>\n",
      "<_sre.SRE_Match object; span=(132, 133), match=' '>\n",
      "<_sre.SRE_Match object; span=(139, 140), match=' '>\n",
      "<_sre.SRE_Match object; span=(152, 153), match=' '>\n",
      "<_sre.SRE_Match object; span=(162, 163), match=' '>\n",
      "<_sre.SRE_Match object; span=(175, 176), match=' '>\n",
      "<_sre.SRE_Match object; span=(179, 180), match=' '>\n",
      "<_sre.SRE_Match object; span=(190, 191), match=' '>\n",
      "<_sre.SRE_Match object; span=(207, 208), match=' '>\n",
      "<_sre.SRE_Match object; span=(212, 213), match=' '>\n",
      "<_sre.SRE_Match object; span=(221, 222), match=' '>\n",
      "<_sre.SRE_Match object; span=(225, 226), match=' '>\n",
      "<_sre.SRE_Match object; span=(234, 235), match=' '>\n",
      "<_sre.SRE_Match object; span=(241, 242), match='\\n'>\n",
      "<_sre.SRE_Match object; span=(242, 243), match=' '>\n",
      "<_sre.SRE_Match object; span=(243, 244), match=' '>\n",
      "<_sre.SRE_Match object; span=(244, 245), match=' '>\n",
      "<_sre.SRE_Match object; span=(245, 246), match=' '>\n",
      "<_sre.SRE_Match object; span=(246, 247), match=' '>\n",
      "<_sre.SRE_Match object; span=(247, 248), match=' '>\n",
      "<_sre.SRE_Match object; span=(248, 249), match=' '>\n",
      "<_sre.SRE_Match object; span=(249, 250), match=' '>\n",
      "<_sre.SRE_Match object; span=(250, 251), match=' '>\n",
      "<_sre.SRE_Match object; span=(251, 252), match=' '>\n",
      "<_sre.SRE_Match object; span=(252, 253), match=' '>\n",
      "<_sre.SRE_Match object; span=(253, 254), match=' '>\n",
      "<_sre.SRE_Match object; span=(254, 255), match=' '>\n",
      "<_sre.SRE_Match object; span=(255, 256), match=' '>\n",
      "<_sre.SRE_Match object; span=(256, 257), match=' '>\n",
      "<_sre.SRE_Match object; span=(257, 258), match=' '>\n",
      "<_sre.SRE_Match object; span=(258, 259), match=' '>\n",
      "<_sre.SRE_Match object; span=(259, 260), match=' '>\n",
      "<_sre.SRE_Match object; span=(263, 264), match=' '>\n",
      "<_sre.SRE_Match object; span=(275, 276), match=' '>\n",
      "<_sre.SRE_Match object; span=(288, 289), match=' '>\n",
      "<_sre.SRE_Match object; span=(296, 297), match=' '>\n",
      "<_sre.SRE_Match object; span=(307, 308), match=' '>\n",
      "<_sre.SRE_Match object; span=(313, 314), match=' '>\n",
      "<_sre.SRE_Match object; span=(315, 316), match=' '>\n",
      "<_sre.SRE_Match object; span=(323, 324), match=' '>\n",
      "<_sre.SRE_Match object; span=(326, 327), match=' '>\n",
      "<_sre.SRE_Match object; span=(333, 334), match=' '>\n",
      "<_sre.SRE_Match object; span=(339, 340), match=' '>\n",
      "<_sre.SRE_Match object; span=(345, 346), match=' '>\n",
      "<_sre.SRE_Match object; span=(350, 351), match=' '>\n",
      "<_sre.SRE_Match object; span=(353, 354), match=' '>\n",
      "<_sre.SRE_Match object; span=(363, 364), match=' '>\n",
      "<_sre.SRE_Match object; span=(373, 374), match=' '>\n",
      "<_sre.SRE_Match object; span=(374, 375), match='\\n'>\n",
      "<_sre.SRE_Match object; span=(375, 376), match=' '>\n",
      "<_sre.SRE_Match object; span=(376, 377), match=' '>\n",
      "<_sre.SRE_Match object; span=(377, 378), match=' '>\n",
      "<_sre.SRE_Match object; span=(378, 379), match=' '>\n",
      "<_sre.SRE_Match object; span=(379, 380), match=' '>\n",
      "<_sre.SRE_Match object; span=(380, 381), match=' '>\n",
      "<_sre.SRE_Match object; span=(381, 382), match=' '>\n",
      "<_sre.SRE_Match object; span=(382, 383), match=' '>\n",
      "<_sre.SRE_Match object; span=(383, 384), match=' '>\n",
      "<_sre.SRE_Match object; span=(384, 385), match=' '>\n",
      "<_sre.SRE_Match object; span=(385, 386), match=' '>\n",
      "<_sre.SRE_Match object; span=(386, 387), match=' '>\n",
      "<_sre.SRE_Match object; span=(387, 388), match=' '>\n",
      "<_sre.SRE_Match object; span=(388, 389), match=' '>\n",
      "<_sre.SRE_Match object; span=(389, 390), match=' '>\n",
      "<_sre.SRE_Match object; span=(390, 391), match=' '>\n",
      "<_sre.SRE_Match object; span=(391, 392), match=' '>\n",
      "<_sre.SRE_Match object; span=(392, 393), match=' '>\n",
      "<_sre.SRE_Match object; span=(401, 402), match=' '>\n",
      "<_sre.SRE_Match object; span=(405, 406), match=' '>\n",
      "<_sre.SRE_Match object; span=(412, 413), match=' '>\n",
      "<_sre.SRE_Match object; span=(420, 421), match=' '>\n"
     ]
    }
   ],
   "source": [
    "pattern = re.compile(r'\\s')\n",
    "matches = pattern.finditer(text_pattern)\n",
    "for match in matches:\n",
    "    print(match)"
   ]
  },
  {
   "cell_type": "markdown",
   "metadata": {},
   "source": [
    "## Anchors \n",
    "\n",
    "They dont match patterns, but allow more detailed string search\n",
    "\n",
    "\n",
    "- '\\b' : Word boundry\n",
    "- '\\B' : Not a word boundry\n",
    "-  ^   : Begining of a string\n",
    "-  $   : End of a string"
   ]
  },
  {
   "cell_type": "code",
   "execution_count": 9,
   "metadata": {},
   "outputs": [],
   "source": [
    "new_text_pattern = '''\n",
    "                      Ha HaHa\n",
    "                      Sentence : Start a sentence and then stop it'\n",
    "                      '''"
   ]
  },
  {
   "cell_type": "code",
   "execution_count": 10,
   "metadata": {},
   "outputs": [
    {
     "name": "stdout",
     "output_type": "stream",
     "text": [
      "<_sre.SRE_Match object; span=(28, 30), match='Ha'>\n"
     ]
    }
   ],
   "source": [
    "pattern = re.compile(r'\\BHa')\n",
    "matches = pattern.finditer(new_text_pattern)\n",
    "for match in matches:\n",
    "    print(match)"
   ]
  },
  {
   "cell_type": "markdown",
   "metadata": {},
   "source": [
    "### Matching Numbers"
   ]
  },
  {
   "cell_type": "code",
   "execution_count": 140,
   "metadata": {},
   "outputs": [],
   "source": [
    "phone_num = \"\"\"\n",
    "              2-324-242-1098\n",
    "              3-301-123-1098\n",
    "              1.201.765.1987\n",
    "              1-301-682-1437\n",
    "              1.201.502.9928\n",
    "            \"\"\""
   ]
  },
  {
   "cell_type": "code",
   "execution_count": 124,
   "metadata": {},
   "outputs": [
    {
     "name": "stdout",
     "output_type": "stream",
     "text": [
      "<_sre.SRE_Match object; span=(73, 87), match='1.201.765.1987'>\n",
      "<_sre.SRE_Match object; span=(131, 145), match='1.201.502.9928'>\n"
     ]
    }
   ],
   "source": [
    "pattern = re.compile(r'\\d[*.]\\d\\d\\d[*.]\\d\\d\\d[*.]\\d\\d\\d\\d')\n",
    "matches = pattern.finditer(phone_num)\n",
    "\n",
    "for match in matches:\n",
    "    print(match)"
   ]
  },
  {
   "cell_type": "markdown",
   "metadata": {},
   "source": [
    "- find out the US phone numbers with area code '301' or '201'"
   ]
  },
  {
   "cell_type": "code",
   "execution_count": 145,
   "metadata": {},
   "outputs": [],
   "source": [
    "pattern = re.compile(r'1[-.][23]00[-.]\\d\\d\\d[-.]\\d\\d\\d')\n",
    "matches = pattern.finditer(phone_num)\n",
    "\n",
    "for match in matches:\n",
    "    print(matches)"
   ]
  },
  {
   "cell_type": "markdown",
   "metadata": {},
   "source": [
    "### Character Negation"
   ]
  },
  {
   "cell_type": "code",
   "execution_count": 136,
   "metadata": {},
   "outputs": [
    {
     "name": "stdout",
     "output_type": "stream",
     "text": [
      "[<_sre.SRE_Match object; span=(13, 16), match='cat'>, <_sre.SRE_Match object; span=(45, 48), match='mat'>, <_sre.SRE_Match object; span=(62, 65), match='pat'>, <_sre.SRE_Match object; span=(153, 156), match='gat'>]\n"
     ]
    }
   ],
   "source": [
    "# find all words starting with anything except 'b'\n",
    "\n",
    "string = '''\n",
    "            cat\n",
    "            bat\n",
    "            mat\n",
    "            spat\n",
    "            bloc\n",
    "            \n",
    "            Sentence : Blob was going to block the black gate with a basketball\n",
    "            \n",
    "            '''\n",
    "\n",
    "pattern = re.compile(r'[^b]at')\n",
    "matches = pattern.finditer(string)\n",
    "li = []\n",
    "for match in matches:\n",
    "    li.append(match)\n",
    "print(li)"
   ]
  },
  {
   "cell_type": "markdown",
   "metadata": {},
   "source": [
    "### Quantifiers -  to match multiple charcters\n",
    "\n",
    "- '*' : macthes 0 or more\n",
    "- '+' : matches 1 or more\n",
    "- '?' : matches 0 or 1\n",
    "- {3} : exact number of digits to match\n",
    "- {3,7}: range of numbers\n"
   ]
  },
  {
   "cell_type": "code",
   "execution_count": 143,
   "metadata": {},
   "outputs": [],
   "source": [
    "# find phone numbers using quantifiers\n",
    "\n",
    "phone_num = \"\"\" 2-324-242-1098, 3-301-123-1098, 1.201.765.1987, 1-301-682-1437, 1.201.502.9928\"\"\"\n",
    "\n",
    "pattern = re.compile(r'\\d-\\d\\d\\d-\\d\\d\\d-\\d\\d\\d\\d')\n",
    "match = pattern.finditer(phone_num)\n",
    "for match in matches:\n",
    "    print(match)"
   ]
  },
  {
   "cell_type": "code",
   "execution_count": 188,
   "metadata": {},
   "outputs": [
    {
     "name": "stdout",
     "output_type": "stream",
     "text": [
      "<_sre.SRE_Match object; span=(141, 144), match='Mr.'>\n",
      "<_sre.SRE_Match object; span=(215, 218), match='Mr.'>\n"
     ]
    }
   ],
   "source": [
    "# Match all prefix of names from a phone book\n",
    "\n",
    "with open('regex.txt', 'r') as f:\n",
    "    contents = f.read()\n",
    "    \n",
    "    pattern = re.compile(r'Mr\\.')\n",
    "    matches = pattern.finditer(contents)\n",
    "    \n",
    "    for match in matches:\n",
    "        print(match)"
   ]
  },
  {
   "cell_type": "code",
   "execution_count": 160,
   "metadata": {},
   "outputs": [
    {
     "name": "stdout",
     "output_type": "stream",
     "text": [
      "<_sre.SRE_Match object; span=(0, 2), match='Mr'>\n",
      "<_sre.SRE_Match object; span=(28, 31), match='Mr.'>\n",
      "<_sre.SRE_Match object; span=(86, 88), match='Mr'>\n",
      "<_sre.SRE_Match object; span=(115, 118), match='Mr.'>\n"
     ]
    }
   ],
   "source": [
    "pattern = re.compile(r'Mr\\.?')\n",
    "matches = pattern.finditer(contents)\n",
    "    \n",
    "for match in matches:\n",
    "    print(match)"
   ]
  },
  {
   "cell_type": "code",
   "execution_count": 169,
   "metadata": {},
   "outputs": [
    {
     "name": "stdout",
     "output_type": "stream",
     "text": [
      "<_sre.SRE_Match object; span=(28, 37), match='Mr. Smith'>\n",
      "<_sre.SRE_Match object; span=(115, 120), match='Mr. T'>\n"
     ]
    }
   ],
   "source": [
    "pattern = re.compile(r'Mr\\.\\s[A-Z]\\w*')\n",
    "matches = pattern.finditer(contents)\n",
    "    \n",
    "for match in matches:\n",
    "    print(match)"
   ]
  },
  {
   "cell_type": "code",
   "execution_count": 187,
   "metadata": {},
   "outputs": [
    {
     "name": "stdout",
     "output_type": "stream",
     "text": [
      "<_sre.SRE_Match object; span=(0, 10), match='Mr Schafer'>\n",
      "<_sre.SRE_Match object; span=(28, 37), match='Mr. Smith'>\n",
      "<_sre.SRE_Match object; span=(57, 66), match='Ms. Davis'>\n",
      "<_sre.SRE_Match object; span=(86, 99), match='Mrs. Robinson'>\n",
      "<_sre.SRE_Match object; span=(115, 120), match='Mr. T'>\n"
     ]
    }
   ],
   "source": [
    "# Find all names with prefix Mr, Mrs or Ms\n",
    "\n",
    "pattern = re.compile(r'(Mr|Ms|Mrs)\\.?\\s[A-Z]\\w*')\n",
    "matches = pattern.finditer(contents)\n",
    "\n",
    "for match in matches:\n",
    "    print(match)"
   ]
  },
  {
   "cell_type": "code",
   "execution_count": 197,
   "metadata": {},
   "outputs": [
    {
     "name": "stdout",
     "output_type": "stream",
     "text": [
      "<_sre.SRE_Match object; span=(61, 84), match='coreyMSchafer@gmail.com'>\n",
      "<_sre.SRE_Match object; span=(85, 106), match='corey.schafer@umd.edu'>\n",
      "<_sre.SRE_Match object; span=(107, 140), match='corey-321-schafer@datasociety.com'>\n"
     ]
    }
   ],
   "source": [
    "# find out the emails of Mr Schafer\n",
    "\n",
    "pattern = re.compile(r'[a-zA-Z0-9_.+-]+@[a-zA-Z]+\\.(com|edu)')\n",
    "matches = pattern.finditer(contents)\n",
    "\n",
    "for match in matches:\n",
    "    print(match)"
   ]
  },
  {
   "cell_type": "code",
   "execution_count": 217,
   "metadata": {},
   "outputs": [
    {
     "name": "stdout",
     "output_type": "stream",
     "text": [
      "https://github.com\n",
      "http://pandas.pydata\n",
      "http://google.com\n",
      "https://www.nasa.gov\n"
     ]
    }
   ],
   "source": [
    "urls = '''\n",
    "       https://github.com/jalajthanaki/credit-risk-modelling/blob/master/Credit%20Risk%20Analysis.ipynb   \n",
    "       http://pandas.pydata.org/\n",
    "       http://google.com\n",
    "       https://www.nasa.gov\n",
    "       '''\n",
    "\n",
    "pattern = re.compile(r'https?://(www\\.)?(\\w+)(\\.\\w+)')\n",
    "matches = pattern.finditer(urls)\n",
    "\n",
    "for match in matches:\n",
    "    print(match.group(0))"
   ]
  },
  {
   "cell_type": "code",
   "execution_count": 11,
   "metadata": {},
   "outputs": [],
   "source": [
    "A = [[1, 4, 5, 12], \n",
    "    [-5, 8, 9, 0],\n",
    "    [-6, 7, 11, 19]]"
   ]
  },
  {
   "cell_type": "code",
   "execution_count": 17,
   "metadata": {},
   "outputs": [
    {
     "data": {
      "text/plain": [
       "8"
      ]
     },
     "execution_count": 17,
     "metadata": {},
     "output_type": "execute_result"
    }
   ],
   "source": [
    "A[1][1]"
   ]
  },
  {
   "cell_type": "code",
   "execution_count": 45,
   "metadata": {},
   "outputs": [],
   "source": [
    "a = [1,4,8,9,3,87,2,2,4,6,88,9,9,9,1092]\n"
   ]
  },
  {
   "cell_type": "code",
   "execution_count": 48,
   "metadata": {},
   "outputs": [],
   "source": [
    "def max_number(a,max_num = 0):\n",
    "    for i in range(len(a)):\n",
    "        if len(a) == 0:\n",
    "            max_num = 0  \n",
    "        for j in range(len(a)):\n",
    "            if i > j : \n",
    "                max_num = i\n",
    "            else :\n",
    "                max_num = j\n",
    "    return max_num"
   ]
  },
  {
   "cell_type": "code",
   "execution_count": 49,
   "metadata": {},
   "outputs": [
    {
     "data": {
      "text/plain": [
       "14"
      ]
     },
     "execution_count": 49,
     "metadata": {},
     "output_type": "execute_result"
    }
   ],
   "source": [
    "max_number(a)"
   ]
  },
  {
   "cell_type": "code",
   "execution_count": 51,
   "metadata": {},
   "outputs": [
    {
     "name": "stdout",
     "output_type": "stream",
     "text": [
      "12322\n"
     ]
    }
   ],
   "source": [
    "a = [12322,4,8,9,3,87,2,2,4,6,88,9,9,9,1092]\n",
    "max= 0\n",
    "for i in a:\n",
    "    if i > max:\n",
    "        max=i\n",
    "print(max)"
   ]
  },
  {
   "cell_type": "code",
   "execution_count": null,
   "metadata": {},
   "outputs": [],
   "source": []
  }
 ],
 "metadata": {
  "kernelspec": {
   "display_name": "Python 3",
   "language": "python",
   "name": "python3"
  },
  "language_info": {
   "codemirror_mode": {
    "name": "ipython",
    "version": 3
   },
   "file_extension": ".py",
   "mimetype": "text/x-python",
   "name": "python",
   "nbconvert_exporter": "python",
   "pygments_lexer": "ipython3",
   "version": "3.6.5"
  }
 },
 "nbformat": 4,
 "nbformat_minor": 2
}
